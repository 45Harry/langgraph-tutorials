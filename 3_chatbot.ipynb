{
 "cells": [
  {
   "cell_type": "code",
   "execution_count": 20,
   "id": "d2c6f3e2-e6dc-457c-86f9-063c5d9308e3",
   "metadata": {},
   "outputs": [],
   "source": [
    "from dotenv import load_dotenv\n",
    "from typing import Annotated\n",
    "\n",
    "load_dotenv()\n",
    "\n",
    "from typing_extensions import TypedDict\n",
    "from langchain.chat_models import init_chat_model\n",
    "from langgraph.graph import StateGraph, START,END\n",
    "from langgraph.graph.message import add_messages"
   ]
  },
  {
   "cell_type": "code",
   "execution_count": 21,
   "id": "9553a364-a555-4506-9653-af77eea207bf",
   "metadata": {},
   "outputs": [],
   "source": [
    "from langchain.chat_models import init_chat_model"
   ]
  },
  {
   "cell_type": "code",
   "execution_count": 22,
   "id": "6060241c-dc2d-4394-88cc-84a191fba46f",
   "metadata": {},
   "outputs": [],
   "source": [
    "llm = init_chat_model('google_genai:gemini-2.0-flash')\n",
    "\n",
    "\n",
    "class State(TypedDict):\n",
    "    messages: Annotated[list,add_messages]\n",
    "\n",
    "def chatbot(state: State) -> State:\n",
    "    return {\"messages\":[llm.invoke(state['messages'])]}\n",
    "\n",
    "builder = StateGraph(State)\n",
    "builder.add_node('chatbot_node',chatbot)\n",
    "\n",
    "builder.add_edge(START,'chatbot_node')\n",
    "builder.add_edge('chatbot_node',END)\n",
    "\n",
    "graph = builder.compile()"
   ]
  },
  {
   "cell_type": "code",
   "execution_count": 23,
   "id": "4e3f8dbd-b186-4fb1-92c4-30a2027ab397",
   "metadata": {},
   "outputs": [
    {
     "data": {
      "text/plain": [
       "[HumanMessage(content='Who walked on the moon for the first time ? Print only the name', additional_kwargs={}, response_metadata={}, id='505d94e1-be01-41d3-a82b-dce778df8503'),\n",
       " AIMessage(content='Neil Armstrong', additional_kwargs={}, response_metadata={'prompt_feedback': {'block_reason': 0, 'safety_ratings': []}, 'finish_reason': 'STOP', 'model_name': 'gemini-2.0-flash', 'safety_ratings': []}, id='run--93578d1d-a6e3-4522-83ae-9fbe124dd8e2-0', usage_metadata={'input_tokens': 14, 'output_tokens': 3, 'total_tokens': 17, 'input_token_details': {'cache_read': 0}})]"
      ]
     },
     "execution_count": 23,
     "metadata": {},
     "output_type": "execute_result"
    }
   ],
   "source": [
    "message = {'role':'user','content':'Who walked on the moon for the first time ? Print only the name'}\n",
    "response = graph.invoke({'messages':[message]})\n",
    "\n",
    "\n",
    "\n",
    "response['messages']"
   ]
  },
  {
   "cell_type": "code",
   "execution_count": 24,
   "id": "0021ad5f-2243-43f8-bd8c-7140b63fc8db",
   "metadata": {},
   "outputs": [
    {
     "name": "stdin",
     "output_type": "stream",
     "text": [
      "You:  Who was the first person to walk on the moon?\n"
     ]
    },
    {
     "name": "stdout",
     "output_type": "stream",
     "text": [
      "Bot: Neil Armstrong was the first person to walk on the moon.\n"
     ]
    },
    {
     "name": "stdin",
     "output_type": "stream",
     "text": [
      "You:  which year?\n"
     ]
    },
    {
     "name": "stdout",
     "output_type": "stream",
     "text": [
      "Bot: Neil Armstrong first walked on the moon in **1969**.\n"
     ]
    },
    {
     "name": "stdin",
     "output_type": "stream",
     "text": [
      "You:  exit\n"
     ]
    }
   ],
   "source": [
    "state = None\n",
    "while True:\n",
    "    in_message = input('You: ')\n",
    "    if in_message.lower() in {'quit','exit'}:\n",
    "        break\n",
    "    if state is None:\n",
    "        state: State ={\n",
    "            'messages':[{'role':'user','content':in_message}]\n",
    "            \n",
    "        }\n",
    "    else:\n",
    "        state['messages'].append({'role':'user','content':in_message})\n",
    "\n",
    "    state = graph.invoke(state)\n",
    "    print('Bot:',state['messages'][-1].content)"
   ]
  },
  {
   "cell_type": "code",
   "execution_count": null,
   "id": "0ddea8e2-d830-4058-aca1-f9bf256a3136",
   "metadata": {},
   "outputs": [],
   "source": []
  }
 ],
 "metadata": {
  "kernelspec": {
   "display_name": "Python 3 (ipykernel)",
   "language": "python",
   "name": "python3"
  },
  "language_info": {
   "codemirror_mode": {
    "name": "ipython",
    "version": 3
   },
   "file_extension": ".py",
   "mimetype": "text/x-python",
   "name": "python",
   "nbconvert_exporter": "python",
   "pygments_lexer": "ipython3",
   "version": "3.13.5"
  }
 },
 "nbformat": 4,
 "nbformat_minor": 5
}
